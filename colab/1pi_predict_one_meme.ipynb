{
  "nbformat": 4,
  "nbformat_minor": 0,
  "metadata": {
    "colab": {
      "provenance": [],
      "include_colab_link": true
    },
    "kernelspec": {
      "name": "python3",
      "display_name": "Python 3"
    },
    "language_info": {
      "name": "python"
    },
    "gpuClass": "standard"
  },
  "cells": [
    {
      "cell_type": "markdown",
      "metadata": {
        "id": "view-in-github",
        "colab_type": "text"
      },
      "source": [
        "<a href=\"https://colab.research.google.com/github/khljgkjpp52/ai_tf_detection/blob/QA05/colab/1pi_predict_one_meme.ipynb\" target=\"_parent\"><img src=\"https://colab.research.google.com/assets/colab-badge.svg\" alt=\"Open In Colab\"/></a>"
      ]
    },
    {
      "cell_type": "code",
      "source": [
        "from google.colab import drive\n",
        "drive.mount('/content/drive')"
      ],
      "metadata": {
        "colab": {
          "base_uri": "https://localhost:8080/"
        },
        "id": "26dcyWWYqz85",
        "outputId": "a4f1320a-c169-4d68-a482-c65bdba6cdf6"
      },
      "execution_count": null,
      "outputs": [
        {
          "output_type": "stream",
          "name": "stdout",
          "text": [
            "Mounted at /content/drive\n"
          ]
        }
      ]
    },
    {
      "cell_type": "code",
      "source": [
        "# https://deeplizard.com/learn/video/OO4HD-1wRN8\n",
        "import os\n",
        "import numpy as np\n",
        "import tensorflow as tf\n",
        "import matplotlib.pyplot as plt\n",
        "from tensorflow import keras\n",
        "from keras.models import load_model \n",
        "from tensorflow.keras.preprocessing import image\n",
        "from tensorflow.keras.applications.mobilenet_v2 import preprocess_input\n",
        "\n",
        "model = load_model(\"/content/drive/MyDrive/Tibame_AI_class/AI_project/EndGame_50classes/50_class_crop_224v1.h5\")\n",
        "img_height = 224\n",
        "img_width = 224\n",
        "\n",
        "# ----------建立 50classes----------\n",
        "classes = []\n",
        "start = 2457\n",
        "end = 2506\n",
        "for c in range(start, end+1):\n",
        "    classes.append(f\"Endgame_{c}\")\n",
        "\n",
        "def prepare_image(file):\n",
        "    img = image.load_img(file, target_size=(img_height, img_width))\n",
        "    img_array = image.img_to_array(img)\n",
        "    img_array_expanded_dims = np.expand_dims(img_array, axis=0)\n",
        "    return tf.keras.applications.mobilenet.preprocess_input(img_array_expanded_dims)"
      ],
      "metadata": {
        "id": "dMdM8H434ix4"
      },
      "execution_count": null,
      "outputs": []
    },
    {
      "cell_type": "code",
      "source": [
        "meme_path = \"/content/drive/MyDrive/Tibame_AI_class/AI_project/EndGame_50classes/cropping/50classes_meme/Endgame_2457_02.jpg\"\n",
        "\n",
        "image_name = meme_path.split(\"/\")[-1]\n",
        "preprocessed_image = prepare_image(meme_path)\n",
        "predictions = model.predict(preprocessed_image)\n",
        "index = np.argmax(predictions)\n",
        "print(\"image：\", image_name)\n",
        "print(\"class：\", classes[index])"
      ],
      "metadata": {
        "id": "kM4HgtNmmzZW",
        "colab": {
          "base_uri": "https://localhost:8080/"
        },
        "outputId": "480ca388-1b89-49c2-9e40-164167e68c95"
      },
      "execution_count": null,
      "outputs": [
        {
          "output_type": "stream",
          "name": "stdout",
          "text": [
            "1/1 [==============================] - 0s 115ms/step\n",
            "image： Endgame_2457_02.jpg\n",
            "class： Endgame_2477\n"
          ]
        }
      ]
    }
  ]
}