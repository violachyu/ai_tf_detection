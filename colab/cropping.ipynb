{
  "nbformat": 4,
  "nbformat_minor": 0,
  "metadata": {
    "colab": {
      "provenance": [],
      "mount_file_id": "1mHCATNaZWtf1Yxmmqd1ZUy5pipce1mv7",
      "authorship_tag": "ABX9TyM48b+4qvhxS8oHxo1kEppD",
      "include_colab_link": true
    },
    "kernelspec": {
      "name": "python3",
      "display_name": "Python 3"
    },
    "language_info": {
      "name": "python"
    }
  },
  "cells": [
    {
      "cell_type": "markdown",
      "metadata": {
        "id": "view-in-github",
        "colab_type": "text"
      },
      "source": [
        "<a href=\"https://colab.research.google.com/github/khljgkjpp52/ai_tf_detection/blob/QA05/colab/cropping.ipynb\" target=\"_parent\"><img src=\"https://colab.research.google.com/assets/colab-badge.svg\" alt=\"Open In Colab\"/></a>"
      ]
    },
    {
      "cell_type": "code",
      "source": [
        "from google.colab import drive\n",
        "drive.mount('/content/drive')"
      ],
      "metadata": {
        "colab": {
          "base_uri": "https://localhost:8080/"
        },
        "id": "Djw3Df6GA_vO",
        "outputId": "5fdf6ad0-2a61-46e5-9db3-457e8113d96d"
      },
      "execution_count": null,
      "outputs": [
        {
          "output_type": "stream",
          "name": "stdout",
          "text": [
            "Mounted at /content/drive\n"
          ]
        }
      ]
    },
    {
      "cell_type": "code",
      "execution_count": null,
      "metadata": {
        "id": "HvtJD0sQAgs8"
      },
      "outputs": [],
      "source": [
        "import os\n",
        "from os.path import join\n",
        "from PIL import Image, ImageOps\n",
        "\n",
        "oldpath = \"/content/drive/MyDrive/Tibame_AI_class/AI_project/EndGame_50classes/50classes_meme\"\n",
        "newpath = \"/content/drive/MyDrive/Tibame_AI_class/AI_project/EndGame_50classes/cropping/50classes\"\n",
        "\n",
        "size = (800, 800) # 指定裁切的大小\n",
        "\n",
        "def cropping(f, path, folder):\n",
        "    destpath = join(newpath, folder)         # 新目標路徑\n",
        "    img = Image.open(path).convert(\"RGB\")       # 圖片統一轉成RGB\n",
        "    newimg = ImageOps.fit(img, size, Image.LANCZOS) # 裁切 Image.LANCZOS優化器\n",
        "    # 如果資料夾不存在，先建立再存圖\n",
        "    if os.path.exists(destpath):\n",
        "        newimg.save(join(destpath, f))\n",
        "    else:\n",
        "        os.mkdir(destpath)\n",
        "        newimg.save(join(destpath, f))\n",
        "\n",
        "# root 當前正在遍歷的目錄路徑\n",
        "# dirs 當前目錄下的子目錄(資料夾)\n",
        "# files 當前目錄下的所有檔案\n",
        "for root, dirs, files in os.walk(oldpath): # 遍歷指定目錄下所有資料夾與檔案\n",
        "    print(\"root：\", root)\n",
        "    if files:\n",
        "        print(\"create cropping image\")\n",
        "        for f in files:\n",
        "            path = join(root, f)     # 圖片檔路徑\n",
        "            folder = root.split(\"/\")[-1]\n",
        "            cropping(f, path, folder)   # 裁切、建資料夾、存圖\n",
        "            print(f, end=\", \")\n",
        "        print(f\"\\n{folder} {len(os.listdir(root))} images Done\")\n",
        "    else:\n",
        "        print(\"no search files\")\n",
        "    print(\"--\"*20)\n"
      ]
    },
    {
      "cell_type": "code",
      "source": [
        "# 新路徑底下的資料夾 與 張數\n",
        "print(os.listdir(newpath))\n",
        "sum = 0\n",
        "for dir in os.listdir(newpath):\n",
        "    for root, dirs, files in os.walk(os.path.join(newpath, dir)):\n",
        "        if root.split(\"/\")[-1] == dir:\n",
        "            print(f\"{dir}：{len(files)} 張\", )\n",
        "            sum += len(files)\n",
        "print(f\"總共 {sum} 張\")"
      ],
      "metadata": {
        "id": "YJtqIVJwjQ-g"
      },
      "execution_count": null,
      "outputs": []
    },
    {
      "cell_type": "code",
      "source": [
        "# 過程有發生漏掉張數的情況 針對class重做\n",
        "classes = [\"Endgame_2469\", \"Endgame_2473\", \"Endgame_2479\", \"Endgame_2484\"]\n",
        "for root, dirs, files in os.walk(oldpath):\n",
        "    print(\"root：\", root)\n",
        "    if not files:\n",
        "        print(\"no search files\")\n",
        "    else:\n",
        "        if root.split(\"/\")[-1] in classes:\n",
        "            print(\"create cropping image\")\n",
        "            for f in files:\n",
        "                path = join(root, f)\n",
        "                folder = root.split(\"/\")[-1]\n",
        "                cropping(f, path, folder)\n",
        "                print(f, end=\", \")\n",
        "            print(f\"\\n{folder} {len(os.listdir(root))} images Done\")\n",
        "    print(\"--\"*20)"
      ],
      "metadata": {
        "id": "TMFnOEWbdc3q"
      },
      "execution_count": null,
      "outputs": []
    }
  ]
}